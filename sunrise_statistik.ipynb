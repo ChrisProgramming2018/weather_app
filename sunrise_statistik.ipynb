{
 "cells": [
  {
   "cell_type": "code",
   "execution_count": 1,
   "metadata": {},
   "outputs": [],
   "source": [
    "from  datetime import date\n",
    "from datetime import datetime\n",
    "import numpy as np"
   ]
  },
  {
   "cell_type": "code",
   "execution_count": 2,
   "metadata": {},
   "outputs": [
    {
     "data": {
      "text/plain": [
       "'2021-11-23'"
      ]
     },
     "execution_count": 2,
     "metadata": {},
     "output_type": "execute_result"
    }
   ],
   "source": [
    "today = date.today().strftime(\"%Y-%m-%d\")\n",
    "today"
   ]
  },
  {
   "cell_type": "code",
   "execution_count": 3,
   "metadata": {},
   "outputs": [
    {
     "data": {
      "text/plain": [
       "(17, 17, 45)"
      ]
     },
     "execution_count": 3,
     "metadata": {},
     "output_type": "execute_result"
    }
   ],
   "source": [
    "now = datetime.now()\n",
    "now.hour, now.minute, now.second"
   ]
  },
  {
   "cell_type": "code",
   "execution_count": 8,
   "metadata": {},
   "outputs": [],
   "source": [
    "f = open(\"Sunrise.txt\", \"r\")"
   ]
  },
  {
   "cell_type": "code",
   "execution_count": 9,
   "metadata": {},
   "outputs": [],
   "source": [
    "sunhour_month = []"
   ]
  },
  {
   "cell_type": "code",
   "execution_count": 10,
   "metadata": {},
   "outputs": [],
   "source": [
    "data = []"
   ]
  },
  {
   "cell_type": "code",
   "execution_count": 12,
   "metadata": {},
   "outputs": [],
   "source": [
    "for x in f:\n",
    "    data.append(x.split(';'))"
   ]
  },
  {
   "cell_type": "code",
   "execution_count": 14,
   "metadata": {},
   "outputs": [
    {
     "data": {
      "text/plain": [
       "['2021-01-01', ' 08,18', ' 16.46', '\\n']"
      ]
     },
     "execution_count": 14,
     "metadata": {},
     "output_type": "execute_result"
    }
   ],
   "source": [
    "data[0]"
   ]
  },
  {
   "cell_type": "code",
   "execution_count": 97,
   "metadata": {},
   "outputs": [],
   "source": [
    "index = ['01', '02','03','04','05','06','07','08', '09', '10', '11', '12']\n",
    "\n",
    "sunhour_month = []"
   ]
  },
  {
   "cell_type": "code",
   "execution_count": 15,
   "metadata": {},
   "outputs": [],
   "source": [
    "day_lenght = []"
   ]
  },
  {
   "cell_type": "code",
   "execution_count": 25,
   "metadata": {},
   "outputs": [],
   "source": [
    "day_lenght = []\n",
    "for d in data:\n",
    "    end = d[2].replace('.',':')+ \":00\"\n",
    "    start = d[1].replace(',',':')+ \":00\"\n",
    "    #print(end[1:])\n",
    "    #print(start)\n",
    "    FMT = '%H:%M:%S'\n",
    "    tdelta = datetime.strptime(end[1:], FMT) - datetime.strptime(start[1:], FMT)\n",
    "    day_lenght.append(round(tdelta.total_seconds()/3600,2))"
   ]
  },
  {
   "cell_type": "code",
   "execution_count": 26,
   "metadata": {},
   "outputs": [
    {
     "data": {
      "text/plain": [
       "[8.47,\n",
       " 8.48,\n",
       " 8.5,\n",
       " 8.53,\n",
       " 8.55,\n",
       " 8.58,\n",
       " 8.6,\n",
       " 8.63,\n",
       " 8.65,\n",
       " 8.68,\n",
       " 8.72,\n",
       " 8.75,\n",
       " 8.77,\n",
       " 8.82,\n",
       " 8.85,\n",
       " 8.88,\n",
       " 8.92,\n",
       " 8.95,\n",
       " 9.0,\n",
       " 9.03,\n",
       " 9.08,\n",
       " 9.12,\n",
       " 9.17,\n",
       " 9.2,\n",
       " 9.25,\n",
       " 9.28,\n",
       " 9.33,\n",
       " 9.38,\n",
       " 9.43,\n",
       " 9.48,\n",
       " 9.52,\n",
       " 9.57,\n",
       " 9.62,\n",
       " 9.67,\n",
       " 9.73,\n",
       " 9.77,\n",
       " 9.82,\n",
       " 9.87,\n",
       " 9.93,\n",
       " 9.98,\n",
       " 10.03,\n",
       " 10.08,\n",
       " 10.13,\n",
       " 10.2,\n",
       " 10.25,\n",
       " 10.3,\n",
       " 10.37,\n",
       " 10.4,\n",
       " 10.47,\n",
       " 10.53,\n",
       " 10.58,\n",
       " 10.65,\n",
       " 10.68,\n",
       " 10.75,\n",
       " 10.8,\n",
       " 10.87,\n",
       " 10.92,\n",
       " 10.98,\n",
       " 11.05,\n",
       " 11.1,\n",
       " 11.15,\n",
       " 11.2,\n",
       " 11.27,\n",
       " 11.32,\n",
       " 11.38,\n",
       " 11.43,\n",
       " 11.5,\n",
       " 11.55,\n",
       " 11.62,\n",
       " 11.67,\n",
       " 11.73,\n",
       " 11.78,\n",
       " 11.85,\n",
       " 11.9,\n",
       " 11.97,\n",
       " 12.03,\n",
       " 12.08,\n",
       " 12.15,\n",
       " 12.2,\n",
       " 12.27,\n",
       " 12.32,\n",
       " 12.38,\n",
       " 12.43,\n",
       " 12.5,\n",
       " 12.55,\n",
       " 12.62,\n",
       " 12.67,\n",
       " 12.72,\n",
       " 12.78,\n",
       " 12.83,\n",
       " 12.9,\n",
       " 12.95,\n",
       " 13.02,\n",
       " 13.07,\n",
       " 13.12,\n",
       " 13.18,\n",
       " 13.23,\n",
       " 13.3,\n",
       " 13.35,\n",
       " 13.42,\n",
       " 13.47,\n",
       " 13.53,\n",
       " 13.58,\n",
       " 13.63,\n",
       " 13.7,\n",
       " 13.75,\n",
       " 13.82,\n",
       " 13.87,\n",
       " 13.92,\n",
       " 13.97,\n",
       " 14.02,\n",
       " 14.08,\n",
       " 14.13,\n",
       " 14.18,\n",
       " 14.23,\n",
       " 14.3,\n",
       " 14.35,\n",
       " 14.38,\n",
       " 14.45,\n",
       " 14.5,\n",
       " 14.55,\n",
       " 14.6,\n",
       " 14.65,\n",
       " 14.7,\n",
       " 14.75,\n",
       " 14.8,\n",
       " 14.85,\n",
       " 14.88,\n",
       " 14.95,\n",
       " 14.98,\n",
       " 15.02,\n",
       " 15.08,\n",
       " 15.12,\n",
       " 15.15,\n",
       " 15.22,\n",
       " 15.25,\n",
       " 15.28,\n",
       " 15.32,\n",
       " 15.37,\n",
       " 15.42,\n",
       " 15.45,\n",
       " 15.48,\n",
       " 15.52,\n",
       " 15.57,\n",
       " 15.58,\n",
       " 15.62,\n",
       " 15.65,\n",
       " 15.68,\n",
       " 15.72,\n",
       " 15.73,\n",
       " 15.77,\n",
       " 15.8,\n",
       " 15.82,\n",
       " 15.85,\n",
       " 15.85,\n",
       " 15.88,\n",
       " 15.9,\n",
       " 15.93,\n",
       " 15.95,\n",
       " 15.95,\n",
       " 15.98,\n",
       " 16.0,\n",
       " 16.0,\n",
       " 16.02,\n",
       " 16.02,\n",
       " 16.03,\n",
       " 16.03,\n",
       " 16.03,\n",
       " 16.05,\n",
       " 16.05,\n",
       " 16.05,\n",
       " 16.03,\n",
       " 16.05,\n",
       " 16.05,\n",
       " 16.03,\n",
       " 16.03,\n",
       " 16.03,\n",
       " 16.02,\n",
       " 16.02,\n",
       " 16.0,\n",
       " 15.98,\n",
       " 15.97,\n",
       " 15.95,\n",
       " 15.95,\n",
       " 15.92,\n",
       " 15.9,\n",
       " 15.87,\n",
       " 15.85,\n",
       " 15.83,\n",
       " 15.82,\n",
       " 15.78,\n",
       " 15.75,\n",
       " 15.73,\n",
       " 15.7,\n",
       " 15.67,\n",
       " 15.63,\n",
       " 15.6,\n",
       " 15.57,\n",
       " 15.55,\n",
       " 15.52,\n",
       " 15.47,\n",
       " 15.42,\n",
       " 15.38,\n",
       " 15.35,\n",
       " 15.32,\n",
       " 15.28,\n",
       " 15.23,\n",
       " 15.18,\n",
       " 15.15,\n",
       " 15.12,\n",
       " 15.05,\n",
       " 15.02,\n",
       " 14.98,\n",
       " 14.92,\n",
       " 14.88,\n",
       " 14.83,\n",
       " 14.8,\n",
       " 14.73,\n",
       " 14.68,\n",
       " 14.65,\n",
       " 14.58,\n",
       " 14.55,\n",
       " 14.48,\n",
       " 14.43,\n",
       " 14.4,\n",
       " 14.33,\n",
       " 14.28,\n",
       " 14.23,\n",
       " 14.17,\n",
       " 14.13,\n",
       " 14.08,\n",
       " 14.02,\n",
       " 13.97,\n",
       " 13.92,\n",
       " 13.85,\n",
       " 13.8,\n",
       " 13.75,\n",
       " 13.7,\n",
       " 13.65,\n",
       " 13.58,\n",
       " 13.53,\n",
       " 13.48,\n",
       " 13.42,\n",
       " 13.37,\n",
       " 13.32,\n",
       " 13.25,\n",
       " 13.2,\n",
       " 13.15,\n",
       " 13.08,\n",
       " 13.03,\n",
       " 12.97,\n",
       " 12.9,\n",
       " 12.85,\n",
       " 12.78,\n",
       " 12.73,\n",
       " 12.68,\n",
       " 12.62,\n",
       " 12.57,\n",
       " 12.52,\n",
       " 12.45,\n",
       " 12.4,\n",
       " 12.33,\n",
       " 12.28,\n",
       " 12.23,\n",
       " 12.15,\n",
       " 12.1,\n",
       " 12.05,\n",
       " 11.98,\n",
       " 11.93,\n",
       " 11.87,\n",
       " 11.82,\n",
       " 11.77,\n",
       " 11.7,\n",
       " 11.65,\n",
       " 11.58,\n",
       " 11.53,\n",
       " 11.48,\n",
       " 11.42,\n",
       " 11.37,\n",
       " 11.3,\n",
       " 11.25,\n",
       " 11.18,\n",
       " 11.13,\n",
       " 11.08,\n",
       " 11.02,\n",
       " 10.97,\n",
       " 10.9,\n",
       " 10.85,\n",
       " 10.78,\n",
       " 10.73,\n",
       " 10.67,\n",
       " 10.63,\n",
       " 10.57,\n",
       " 10.52,\n",
       " 10.45,\n",
       " 10.4,\n",
       " 10.35,\n",
       " 10.3,\n",
       " 10.23,\n",
       " 10.18,\n",
       " 10.13,\n",
       " 10.08,\n",
       " 10.03,\n",
       " 9.97,\n",
       " 9.92,\n",
       " 9.87,\n",
       " 9.82,\n",
       " 9.77,\n",
       " 9.72,\n",
       " 9.67,\n",
       " 9.62,\n",
       " 9.57,\n",
       " 9.53,\n",
       " 9.47,\n",
       " 9.43,\n",
       " 9.38,\n",
       " 9.35,\n",
       " 9.28,\n",
       " 9.25,\n",
       " 9.2,\n",
       " 9.17,\n",
       " 9.12,\n",
       " 9.08,\n",
       " 9.03,\n",
       " 9.0,\n",
       " 8.95,\n",
       " 8.92,\n",
       " 8.9,\n",
       " 8.85,\n",
       " 8.82,\n",
       " 8.78,\n",
       " 8.75,\n",
       " 8.72,\n",
       " 8.7,\n",
       " 8.65,\n",
       " 8.63,\n",
       " 8.6,\n",
       " 8.58,\n",
       " 8.57,\n",
       " 8.53,\n",
       " 8.52,\n",
       " 8.5,\n",
       " 8.48,\n",
       " 8.47,\n",
       " 8.45,\n",
       " 8.43,\n",
       " 8.42,\n",
       " 8.4,\n",
       " 8.4,\n",
       " 8.4,\n",
       " 8.38,\n",
       " 8.37,\n",
       " 8.38,\n",
       " 8.37,\n",
       " 8.38,\n",
       " 8.37,\n",
       " 8.38,\n",
       " 8.37,\n",
       " 8.38,\n",
       " 8.4,\n",
       " 8.42,\n",
       " 8.4,\n",
       " 8.42,\n",
       " 8.43,\n",
       " 8.45]"
      ]
     },
     "execution_count": 26,
     "metadata": {},
     "output_type": "execute_result"
    }
   ],
   "source": [
    "day_lenght"
   ]
  },
  {
   "cell_type": "code",
   "execution_count": 27,
   "metadata": {},
   "outputs": [],
   "source": [
    "import numpy as np\n",
    "import matplotlib.pyplot as plt\n",
    "import pandas as pd\n",
    "import matplotlib.ticker as ticker"
   ]
  },
  {
   "cell_type": "code",
   "execution_count": 29,
   "metadata": {},
   "outputs": [
    {
     "name": "stderr",
     "output_type": "stream",
     "text": [
      "/home/programmer/miniconda3/envs/lab/lib/python3.7/site-packages/ipykernel_launcher.py:5: FutureWarning: how in .resample() is deprecated\n",
      "the new syntax is .resample(...).max()\n",
      "  \"\"\"\n"
     ]
    },
    {
     "ename": "KeyError",
     "evalue": "\"None of [DatetimeIndex(['2012-05-06', '2012-05-13', '2012-05-20', '2012-05-27',\\n               '2012-06-03', '2012-06-10', '2012-06-17', '2012-06-24',\\n               '2012-07-01', '2012-07-08', '2012-07-15', '2012-07-22',\\n               '2012-07-29', '2012-08-05', '2012-08-12', '2012-08-19',\\n               '2012-08-26', '2012-09-02', '2012-09-09', '2012-09-16',\\n               '2012-09-23', '2012-09-30', '2012-10-07', '2012-10-14',\\n               '2012-10-21', '2012-10-28', '2012-11-04', '2012-11-11',\\n               '2012-11-18', '2012-11-25', '2012-12-02', '2012-12-09',\\n               '2012-12-16', '2012-12-23', '2012-12-30', '2013-01-06',\\n               '2013-01-13', '2013-01-20', '2013-01-27', '2013-02-03',\\n               '2013-02-10', '2013-02-17', '2013-02-24', '2013-03-03',\\n               '2013-03-10', '2013-03-17', '2013-03-24', '2013-03-31',\\n               '2013-04-07', '2013-04-14', '2013-04-21', '2013-04-28',\\n               '2013-05-05'],\\n              dtype='datetime64[ns]', freq='W-SUN')] are in the [columns]\"",
     "output_type": "error",
     "traceback": [
      "\u001b[0;31m---------------------------------------------------------------------------\u001b[0m",
      "\u001b[0;31mKeyError\u001b[0m                                  Traceback (most recent call last)",
      "\u001b[0;32m/tmp/ipykernel_3860/3010239522.py\u001b[0m in \u001b[0;36m<module>\u001b[0;34m\u001b[0m\n\u001b[1;32m      5\u001b[0m \u001b[0mdf_ts\u001b[0m \u001b[0;34m=\u001b[0m \u001b[0mdf\u001b[0m\u001b[0;34m.\u001b[0m\u001b[0mresample\u001b[0m\u001b[0;34m(\u001b[0m\u001b[0;34m'W'\u001b[0m\u001b[0;34m,\u001b[0m \u001b[0mhow\u001b[0m\u001b[0;34m=\u001b[0m \u001b[0;34m'max'\u001b[0m\u001b[0;34m)\u001b[0m\u001b[0;34m\u001b[0m\u001b[0;34m\u001b[0m\u001b[0m\n\u001b[1;32m      6\u001b[0m \u001b[0;34m\u001b[0m\u001b[0m\n\u001b[0;32m----> 7\u001b[0;31m \u001b[0max\u001b[0m \u001b[0;34m=\u001b[0m \u001b[0mdf_ts\u001b[0m\u001b[0;34m.\u001b[0m\u001b[0mplot\u001b[0m\u001b[0;34m(\u001b[0m\u001b[0mkind\u001b[0m\u001b[0;34m=\u001b[0m\u001b[0;34m'bar'\u001b[0m\u001b[0;34m,\u001b[0m \u001b[0mx\u001b[0m\u001b[0;34m=\u001b[0m\u001b[0mdf_ts\u001b[0m\u001b[0;34m.\u001b[0m\u001b[0mindex\u001b[0m\u001b[0;34m,\u001b[0m \u001b[0mstacked\u001b[0m\u001b[0;34m=\u001b[0m\u001b[0;32mTrue\u001b[0m\u001b[0;34m)\u001b[0m\u001b[0;34m\u001b[0m\u001b[0;34m\u001b[0m\u001b[0m\n\u001b[0m\u001b[1;32m      8\u001b[0m \u001b[0;34m\u001b[0m\u001b[0m\n\u001b[1;32m      9\u001b[0m \u001b[0;31m# Make most of the ticklabels empty so the labels don't get too crowded\u001b[0m\u001b[0;34m\u001b[0m\u001b[0;34m\u001b[0m\u001b[0;34m\u001b[0m\u001b[0m\n",
      "\u001b[0;32m~/miniconda3/envs/lab/lib/python3.7/site-packages/pandas/plotting/_core.py\u001b[0m in \u001b[0;36m__call__\u001b[0;34m(self, x, y, kind, ax, subplots, sharex, sharey, layout, figsize, use_index, title, grid, legend, style, logx, logy, loglog, xticks, yticks, xlim, ylim, rot, fontsize, colormap, table, yerr, xerr, secondary_y, sort_columns, **kwds)\u001b[0m\n\u001b[1;32m   2940\u001b[0m                           \u001b[0mfontsize\u001b[0m\u001b[0;34m=\u001b[0m\u001b[0mfontsize\u001b[0m\u001b[0;34m,\u001b[0m \u001b[0mcolormap\u001b[0m\u001b[0;34m=\u001b[0m\u001b[0mcolormap\u001b[0m\u001b[0;34m,\u001b[0m \u001b[0mtable\u001b[0m\u001b[0;34m=\u001b[0m\u001b[0mtable\u001b[0m\u001b[0;34m,\u001b[0m\u001b[0;34m\u001b[0m\u001b[0;34m\u001b[0m\u001b[0m\n\u001b[1;32m   2941\u001b[0m                           \u001b[0myerr\u001b[0m\u001b[0;34m=\u001b[0m\u001b[0myerr\u001b[0m\u001b[0;34m,\u001b[0m \u001b[0mxerr\u001b[0m\u001b[0;34m=\u001b[0m\u001b[0mxerr\u001b[0m\u001b[0;34m,\u001b[0m \u001b[0msecondary_y\u001b[0m\u001b[0;34m=\u001b[0m\u001b[0msecondary_y\u001b[0m\u001b[0;34m,\u001b[0m\u001b[0;34m\u001b[0m\u001b[0;34m\u001b[0m\u001b[0m\n\u001b[0;32m-> 2942\u001b[0;31m                           sort_columns=sort_columns, **kwds)\n\u001b[0m\u001b[1;32m   2943\u001b[0m     \u001b[0m__call__\u001b[0m\u001b[0;34m.\u001b[0m\u001b[0m__doc__\u001b[0m \u001b[0;34m=\u001b[0m \u001b[0mplot_frame\u001b[0m\u001b[0;34m.\u001b[0m\u001b[0m__doc__\u001b[0m\u001b[0;34m\u001b[0m\u001b[0;34m\u001b[0m\u001b[0m\n\u001b[1;32m   2944\u001b[0m \u001b[0;34m\u001b[0m\u001b[0m\n",
      "\u001b[0;32m~/miniconda3/envs/lab/lib/python3.7/site-packages/pandas/plotting/_core.py\u001b[0m in \u001b[0;36mplot_frame\u001b[0;34m(data, x, y, kind, ax, subplots, sharex, sharey, layout, figsize, use_index, title, grid, legend, style, logx, logy, loglog, xticks, yticks, xlim, ylim, rot, fontsize, colormap, table, yerr, xerr, secondary_y, sort_columns, **kwds)\u001b[0m\n\u001b[1;32m   1971\u001b[0m                  \u001b[0myerr\u001b[0m\u001b[0;34m=\u001b[0m\u001b[0myerr\u001b[0m\u001b[0;34m,\u001b[0m \u001b[0mxerr\u001b[0m\u001b[0;34m=\u001b[0m\u001b[0mxerr\u001b[0m\u001b[0;34m,\u001b[0m\u001b[0;34m\u001b[0m\u001b[0;34m\u001b[0m\u001b[0m\n\u001b[1;32m   1972\u001b[0m                  \u001b[0msecondary_y\u001b[0m\u001b[0;34m=\u001b[0m\u001b[0msecondary_y\u001b[0m\u001b[0;34m,\u001b[0m \u001b[0msort_columns\u001b[0m\u001b[0;34m=\u001b[0m\u001b[0msort_columns\u001b[0m\u001b[0;34m,\u001b[0m\u001b[0;34m\u001b[0m\u001b[0;34m\u001b[0m\u001b[0m\n\u001b[0;32m-> 1973\u001b[0;31m                  **kwds)\n\u001b[0m\u001b[1;32m   1974\u001b[0m \u001b[0;34m\u001b[0m\u001b[0m\n\u001b[1;32m   1975\u001b[0m \u001b[0;34m\u001b[0m\u001b[0m\n",
      "\u001b[0;32m~/miniconda3/envs/lab/lib/python3.7/site-packages/pandas/plotting/_core.py\u001b[0m in \u001b[0;36m_plot\u001b[0;34m(data, x, y, subplots, ax, kind, **kwds)\u001b[0m\n\u001b[1;32m   1761\u001b[0m                 \u001b[0;32mif\u001b[0m \u001b[0mis_integer\u001b[0m\u001b[0;34m(\u001b[0m\u001b[0mx\u001b[0m\u001b[0;34m)\u001b[0m \u001b[0;32mand\u001b[0m \u001b[0;32mnot\u001b[0m \u001b[0mdata\u001b[0m\u001b[0;34m.\u001b[0m\u001b[0mcolumns\u001b[0m\u001b[0;34m.\u001b[0m\u001b[0mholds_integer\u001b[0m\u001b[0;34m(\u001b[0m\u001b[0;34m)\u001b[0m\u001b[0;34m:\u001b[0m\u001b[0;34m\u001b[0m\u001b[0;34m\u001b[0m\u001b[0m\n\u001b[1;32m   1762\u001b[0m                     \u001b[0mx\u001b[0m \u001b[0;34m=\u001b[0m \u001b[0mdata_cols\u001b[0m\u001b[0;34m[\u001b[0m\u001b[0mx\u001b[0m\u001b[0;34m]\u001b[0m\u001b[0;34m\u001b[0m\u001b[0;34m\u001b[0m\u001b[0m\n\u001b[0;32m-> 1763\u001b[0;31m                 \u001b[0;32melif\u001b[0m \u001b[0;32mnot\u001b[0m \u001b[0misinstance\u001b[0m\u001b[0;34m(\u001b[0m\u001b[0mdata\u001b[0m\u001b[0;34m[\u001b[0m\u001b[0mx\u001b[0m\u001b[0;34m]\u001b[0m\u001b[0;34m,\u001b[0m \u001b[0mABCSeries\u001b[0m\u001b[0;34m)\u001b[0m\u001b[0;34m:\u001b[0m\u001b[0;34m\u001b[0m\u001b[0;34m\u001b[0m\u001b[0m\n\u001b[0m\u001b[1;32m   1764\u001b[0m                     \u001b[0;32mraise\u001b[0m \u001b[0mValueError\u001b[0m\u001b[0;34m(\u001b[0m\u001b[0;34m\"x must be a label or position\"\u001b[0m\u001b[0;34m)\u001b[0m\u001b[0;34m\u001b[0m\u001b[0;34m\u001b[0m\u001b[0m\n\u001b[1;32m   1765\u001b[0m                 \u001b[0mdata\u001b[0m \u001b[0;34m=\u001b[0m \u001b[0mdata\u001b[0m\u001b[0;34m.\u001b[0m\u001b[0mset_index\u001b[0m\u001b[0;34m(\u001b[0m\u001b[0mx\u001b[0m\u001b[0;34m)\u001b[0m\u001b[0;34m\u001b[0m\u001b[0;34m\u001b[0m\u001b[0m\n",
      "\u001b[0;32m~/miniconda3/envs/lab/lib/python3.7/site-packages/pandas/core/frame.py\u001b[0m in \u001b[0;36m__getitem__\u001b[0;34m(self, key)\u001b[0m\n\u001b[1;32m   2932\u001b[0m                 \u001b[0mkey\u001b[0m \u001b[0;34m=\u001b[0m \u001b[0mlist\u001b[0m\u001b[0;34m(\u001b[0m\u001b[0mkey\u001b[0m\u001b[0;34m)\u001b[0m\u001b[0;34m\u001b[0m\u001b[0;34m\u001b[0m\u001b[0m\n\u001b[1;32m   2933\u001b[0m             indexer = self.loc._convert_to_indexer(key, axis=1,\n\u001b[0;32m-> 2934\u001b[0;31m                                                    raise_missing=True)\n\u001b[0m\u001b[1;32m   2935\u001b[0m \u001b[0;34m\u001b[0m\u001b[0m\n\u001b[1;32m   2936\u001b[0m         \u001b[0;31m# take() does not accept boolean indexers\u001b[0m\u001b[0;34m\u001b[0m\u001b[0;34m\u001b[0m\u001b[0;34m\u001b[0m\u001b[0m\n",
      "\u001b[0;32m~/miniconda3/envs/lab/lib/python3.7/site-packages/pandas/core/indexing.py\u001b[0m in \u001b[0;36m_convert_to_indexer\u001b[0;34m(self, obj, axis, is_setter, raise_missing)\u001b[0m\n\u001b[1;32m   1352\u001b[0m                 kwargs = {'raise_missing': True if is_setter else\n\u001b[1;32m   1353\u001b[0m                           raise_missing}\n\u001b[0;32m-> 1354\u001b[0;31m                 \u001b[0;32mreturn\u001b[0m \u001b[0mself\u001b[0m\u001b[0;34m.\u001b[0m\u001b[0m_get_listlike_indexer\u001b[0m\u001b[0;34m(\u001b[0m\u001b[0mobj\u001b[0m\u001b[0;34m,\u001b[0m \u001b[0maxis\u001b[0m\u001b[0;34m,\u001b[0m \u001b[0;34m**\u001b[0m\u001b[0mkwargs\u001b[0m\u001b[0;34m)\u001b[0m\u001b[0;34m[\u001b[0m\u001b[0;36m1\u001b[0m\u001b[0;34m]\u001b[0m\u001b[0;34m\u001b[0m\u001b[0;34m\u001b[0m\u001b[0m\n\u001b[0m\u001b[1;32m   1355\u001b[0m         \u001b[0;32melse\u001b[0m\u001b[0;34m:\u001b[0m\u001b[0;34m\u001b[0m\u001b[0;34m\u001b[0m\u001b[0m\n\u001b[1;32m   1356\u001b[0m             \u001b[0;32mtry\u001b[0m\u001b[0;34m:\u001b[0m\u001b[0;34m\u001b[0m\u001b[0;34m\u001b[0m\u001b[0m\n",
      "\u001b[0;32m~/miniconda3/envs/lab/lib/python3.7/site-packages/pandas/core/indexing.py\u001b[0m in \u001b[0;36m_get_listlike_indexer\u001b[0;34m(self, key, axis, raise_missing)\u001b[0m\n\u001b[1;32m   1159\u001b[0m         self._validate_read_indexer(keyarr, indexer,\n\u001b[1;32m   1160\u001b[0m                                     \u001b[0mo\u001b[0m\u001b[0;34m.\u001b[0m\u001b[0m_get_axis_number\u001b[0m\u001b[0;34m(\u001b[0m\u001b[0maxis\u001b[0m\u001b[0;34m)\u001b[0m\u001b[0;34m,\u001b[0m\u001b[0;34m\u001b[0m\u001b[0;34m\u001b[0m\u001b[0m\n\u001b[0;32m-> 1161\u001b[0;31m                                     raise_missing=raise_missing)\n\u001b[0m\u001b[1;32m   1162\u001b[0m         \u001b[0;32mreturn\u001b[0m \u001b[0mkeyarr\u001b[0m\u001b[0;34m,\u001b[0m \u001b[0mindexer\u001b[0m\u001b[0;34m\u001b[0m\u001b[0;34m\u001b[0m\u001b[0m\n\u001b[1;32m   1163\u001b[0m \u001b[0;34m\u001b[0m\u001b[0m\n",
      "\u001b[0;32m~/miniconda3/envs/lab/lib/python3.7/site-packages/pandas/core/indexing.py\u001b[0m in \u001b[0;36m_validate_read_indexer\u001b[0;34m(self, key, indexer, axis, raise_missing)\u001b[0m\n\u001b[1;32m   1244\u001b[0m                 raise KeyError(\n\u001b[1;32m   1245\u001b[0m                     u\"None of [{key}] are in the [{axis}]\".format(\n\u001b[0;32m-> 1246\u001b[0;31m                         key=key, axis=self.obj._get_axis_name(axis)))\n\u001b[0m\u001b[1;32m   1247\u001b[0m \u001b[0;34m\u001b[0m\u001b[0m\n\u001b[1;32m   1248\u001b[0m             \u001b[0;31m# We (temporarily) allow for some missing keys with .loc, except in\u001b[0m\u001b[0;34m\u001b[0m\u001b[0;34m\u001b[0m\u001b[0;34m\u001b[0m\u001b[0m\n",
      "\u001b[0;31mKeyError\u001b[0m: \"None of [DatetimeIndex(['2012-05-06', '2012-05-13', '2012-05-20', '2012-05-27',\\n               '2012-06-03', '2012-06-10', '2012-06-17', '2012-06-24',\\n               '2012-07-01', '2012-07-08', '2012-07-15', '2012-07-22',\\n               '2012-07-29', '2012-08-05', '2012-08-12', '2012-08-19',\\n               '2012-08-26', '2012-09-02', '2012-09-09', '2012-09-16',\\n               '2012-09-23', '2012-09-30', '2012-10-07', '2012-10-14',\\n               '2012-10-21', '2012-10-28', '2012-11-04', '2012-11-11',\\n               '2012-11-18', '2012-11-25', '2012-12-02', '2012-12-09',\\n               '2012-12-16', '2012-12-23', '2012-12-30', '2013-01-06',\\n               '2013-01-13', '2013-01-20', '2013-01-27', '2013-02-03',\\n               '2013-02-10', '2013-02-17', '2013-02-24', '2013-03-03',\\n               '2013-03-10', '2013-03-17', '2013-03-24', '2013-03-31',\\n               '2013-04-07', '2013-04-14', '2013-04-21', '2013-04-28',\\n               '2013-05-05'],\\n              dtype='datetime64[ns]', freq='W-SUN')] are in the [columns]\""
     ]
    }
   ],
   "source": [
    "start = pd.to_datetime(\"5-1-2012\")\n",
    "idx = pd.date_range(start, periods= 365)\n",
    "df = pd.DataFrame({'A':np.random.random(365), 'B':np.random.random(365)})\n",
    "df.index = idx\n",
    "df_ts = df.resample('W', how= 'max')\n",
    "\n",
    "ax = df_ts.plot(kind='bar', x=df_ts.index, stacked=True)\n",
    "\n",
    "# Make most of the ticklabels empty so the labels don't get too crowded\n",
    "ticklabels = ['']*len(df_ts.index)\n",
    "# Every 4th ticklable shows the month and day\n",
    "ticklabels[::4] = [item.strftime('%b %d') for item in df_ts.index[::4]]\n",
    "# Every 12th ticklabel includes the year\n",
    "ticklabels[::12] = [item.strftime('%b %d\\n%Y') for item in df_ts.index[::12]]\n",
    "ax.xaxis.set_major_formatter(ticker.FixedFormatter(ticklabels))\n",
    "plt.gcf().autofmt_xdate()\n",
    "\n",
    "plt.show()\n"
   ]
  },
  {
   "cell_type": "code",
   "execution_count": null,
   "metadata": {},
   "outputs": [],
   "source": []
  },
  {
   "cell_type": "code",
   "execution_count": null,
   "metadata": {},
   "outputs": [],
   "source": []
  },
  {
   "cell_type": "code",
   "execution_count": null,
   "metadata": {},
   "outputs": [],
   "source": []
  },
  {
   "cell_type": "code",
   "execution_count": null,
   "metadata": {},
   "outputs": [],
   "source": []
  },
  {
   "cell_type": "code",
   "execution_count": 98,
   "metadata": {},
   "outputs": [],
   "source": [
    "for idx in index:\n",
    "    temp = []\n",
    "    for d in data:\n",
    "        if idx == d[0][5:7]:\n",
    "            end = d[2].replace('.',':')+ \":00\"\n",
    "            start = d[1].replace(',',':')+ \":00\"\n",
    "            #print(end[1:])\n",
    "            #print(start)\n",
    "            FMT = '%H:%M:%S'\n",
    "            tdelta = datetime.strptime(end[1:], FMT) - datetime.strptime(start[1:], FMT)\n",
    "            #print(tdelta)\n",
    "            temp.append(tdelta)\n",
    "    month_hour = 0\n",
    "    for t in temp:\n",
    "        month_hour += int(t.total_seconds())\n",
    "    month_hour /=3600\n",
    "    sunhour_month.append(round(month_hour,2))"
   ]
  },
  {
   "cell_type": "code",
   "execution_count": 99,
   "metadata": {},
   "outputs": [
    {
     "data": {
      "text/plain": [
       "[276.62,\n",
       " 288.0,\n",
       " 370.95,\n",
       " 411.4,\n",
       " 471.7,\n",
       " 479.45,\n",
       " 482.52,\n",
       " 440.83,\n",
       " 376.08,\n",
       " 334.75,\n",
       " 277.62,\n",
       " 261.93]"
      ]
     },
     "execution_count": 99,
     "metadata": {},
     "output_type": "execute_result"
    }
   ],
   "source": [
    "sunhour_month"
   ]
  },
  {
   "cell_type": "code",
   "execution_count": 100,
   "metadata": {},
   "outputs": [
    {
     "data": {
      "text/plain": [
       "[276, 288, 370, 411, 471, 479, 482, 440, 376, 334, 277, 261]"
      ]
     },
     "execution_count": 100,
     "metadata": {},
     "output_type": "execute_result"
    }
   ],
   "source": [
    "sunhour_month = [int(i) for i in sunhour_month]\n",
    "sunhour_month"
   ]
  },
  {
   "cell_type": "code",
   "execution_count": 101,
   "metadata": {},
   "outputs": [],
   "source": [
    "from calendar import monthrange\n",
    "num_days = monthrange(2019, 2)[1] # num_days = 28\n",
    "days_month =[monthrange(2019, i)[1] for i in range(1, 13)  ]"
   ]
  },
  {
   "cell_type": "code",
   "execution_count": 102,
   "metadata": {},
   "outputs": [
    {
     "data": {
      "text/plain": [
       "[31, 28, 31, 30, 31, 30, 31, 31, 30, 31, 30, 31]"
      ]
     },
     "execution_count": 102,
     "metadata": {},
     "output_type": "execute_result"
    }
   ],
   "source": [
    "days_month"
   ]
  },
  {
   "cell_type": "code",
   "execution_count": 104,
   "metadata": {},
   "outputs": [
    {
     "data": {
      "text/plain": [
       "[8.9, 10.29, 11.94, 13.7, 15.19, 15.97, 15.55, 14.19, 12.53, 10.77, 9.23, 8.42]"
      ]
     },
     "execution_count": 104,
     "metadata": {},
     "output_type": "execute_result"
    }
   ],
   "source": [
    "sunhour_month_average = [ round(i/j,2) for i,j in zip(sunhour_month, days_month)]\n",
    "sunhour_month_average"
   ]
  },
  {
   "cell_type": "code",
   "execution_count": 68,
   "metadata": {},
   "outputs": [
    {
     "data": {
      "text/plain": [
       "28.483870967741936"
      ]
     },
     "execution_count": 68,
     "metadata": {},
     "output_type": "execute_result"
    }
   ],
   "source": [
    "883/31"
   ]
  },
  {
   "cell_type": "code",
   "execution_count": null,
   "metadata": {},
   "outputs": [],
   "source": []
  },
  {
   "cell_type": "code",
   "execution_count": null,
   "metadata": {},
   "outputs": [],
   "source": []
  },
  {
   "cell_type": "code",
   "execution_count": null,
   "metadata": {},
   "outputs": [],
   "source": []
  },
  {
   "cell_type": "code",
   "execution_count": null,
   "metadata": {},
   "outputs": [],
   "source": []
  },
  {
   "cell_type": "code",
   "execution_count": null,
   "metadata": {},
   "outputs": [],
   "source": []
  },
  {
   "cell_type": "code",
   "execution_count": null,
   "metadata": {},
   "outputs": [],
   "source": []
  },
  {
   "cell_type": "code",
   "execution_count": null,
   "metadata": {},
   "outputs": [],
   "source": []
  },
  {
   "cell_type": "code",
   "execution_count": null,
   "metadata": {},
   "outputs": [],
   "source": []
  }
 ],
 "metadata": {
  "kernelspec": {
   "display_name": "lab",
   "language": "python",
   "name": "lab"
  },
  "language_info": {
   "codemirror_mode": {
    "name": "ipython",
    "version": 3
   },
   "file_extension": ".py",
   "mimetype": "text/x-python",
   "name": "python",
   "nbconvert_exporter": "python",
   "pygments_lexer": "ipython3",
   "version": "3.7.3"
  }
 },
 "nbformat": 4,
 "nbformat_minor": 2
}
